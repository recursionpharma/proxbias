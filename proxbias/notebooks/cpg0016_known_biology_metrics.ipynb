{
 "cells": [
  {
   "cell_type": "code",
   "execution_count": 2,
   "id": "a21f27e1-4bdf-4ab4-870f-15853a1af439",
   "metadata": {
    "tags": []
   },
   "outputs": [
    {
     "data": {
      "text/html": [
       "<style>.container { width:80% !important; }</style>"
      ],
      "text/plain": [
       "<IPython.core.display.HTML object>"
      ]
     },
     "metadata": {},
     "output_type": "display_data"
    }
   ],
   "source": [
    "import os\n",
    "import numpy as np\n",
    "import pandas as pd\n",
    "import pickle\n",
    "\n",
    "import seaborn as sns\n",
    "import sklearn\n",
    "from sklearn.utils import Bunch\n",
    "import matplotlib.pyplot as plt\n",
    "\n",
    "from efaar_benchmarking.benchmarking import benchmark as bm\n",
    "from efaar_benchmarking.utils import get_benchmark_metrics\n",
    "\n",
    "from proxbias.metrics import compute_within_cross_arm_pairwise_metrics\n",
    "\n",
    "# This is necesary for the svg output plots to have editable text\n",
    "plt.rcParams[\"svg.fonttype\"] = \"none\"\n",
    "\n",
    "# Just to make the notebook take up full screen real estate, not necessary\n",
    "from IPython.display import display, HTML\n",
    "\n",
    "display(HTML(\"<style>.container { width:80% !important; }</style>\"))"
   ]
  },
  {
   "cell_type": "markdown",
   "id": "2fa580dc-5e7e-441c-8e79-ec628012f940",
   "metadata": {},
   "source": [
    "# Load JUMP cpg0016 data\n",
    "\n",
    "cpg0016 data loading and PCA transforming is shown in `cpg0016_loading.ipynb`. This code assumes that has already been run to create a directory `scratch` in the high-level `proxbias` directory and populate it with `cpg_data_dict.pkl`."
   ]
  },
  {
   "cell_type": "code",
   "execution_count": 3,
   "id": "6c79e281-9bf3-4c5c-86db-b24ca4fd1200",
   "metadata": {
    "tags": []
   },
   "outputs": [
    {
     "data": {
      "text/plain": [
       "dict_keys(['JUMP-CP PCAW', 'JUMP-CP PCAW Arm-Centered'])"
      ]
     },
     "execution_count": 3,
     "metadata": {},
     "output_type": "execute_result"
    }
   ],
   "source": [
    "with open(\"../../scratch/cpg_data_dict.pkl\", \"rb\") as infile:\n",
    "    data_dict = pickle.load(infile)\n",
    "data_dict.keys()"
   ]
  },
  {
   "cell_type": "markdown",
   "id": "01962fef-446b-439e-8a69-6ee1040295cb",
   "metadata": {
    "tags": []
   },
   "source": [
    "# Run Known Biology Benchmarks\n",
    "Run known biology benchmark metrics for the Reactome, CORUM and HuMAP annotations sets. "
   ]
  },
  {
   "cell_type": "code",
   "execution_count": 4,
   "id": "b9f647b6-843b-4ef9-aa15-6c27e3dbe603",
   "metadata": {
    "tags": []
   },
   "outputs": [
    {
     "name": "stdout",
     "output_type": "stream",
     "text": [
      "7825 gene perturbations in the map.\n",
      "Running benchmarking for Reactome\n",
      "Took the overlap between the annotation source and the map entities.\n",
      "Running benchmarking for HuMAP\n",
      "Took the overlap between the annotation source and the map entities.\n",
      "Running benchmarking for CORUM\n",
      "Took the overlap between the annotation source and the map entities.\n",
      "Running benchmarking for Reactome\n",
      "Took the overlap between the annotation source and the map entities.\n",
      "Running benchmarking for HuMAP\n",
      "Took the overlap between the annotation source and the map entities.\n",
      "Running benchmarking for CORUM\n",
      "Took the overlap between the annotation source and the map entities.\n",
      "Running benchmarking for Reactome\n",
      "Took the overlap between the annotation source and the map entities.\n",
      "Running benchmarking for HuMAP\n",
      "Took the overlap between the annotation source and the map entities.\n",
      "Running benchmarking for CORUM\n",
      "Took the overlap between the annotation source and the map entities.\n",
      "7825 gene perturbations in the map.\n",
      "Running benchmarking for Reactome\n",
      "Took the overlap between the annotation source and the map entities.\n",
      "Running benchmarking for HuMAP\n",
      "Took the overlap between the annotation source and the map entities.\n",
      "Running benchmarking for CORUM\n",
      "Took the overlap between the annotation source and the map entities.\n",
      "Running benchmarking for Reactome\n",
      "Took the overlap between the annotation source and the map entities.\n",
      "Running benchmarking for HuMAP\n",
      "Took the overlap between the annotation source and the map entities.\n",
      "Running benchmarking for CORUM\n",
      "Took the overlap between the annotation source and the map entities.\n",
      "Running benchmarking for Reactome\n",
      "Took the overlap between the annotation source and the map entities.\n",
      "Running benchmarking for HuMAP\n",
      "Took the overlap between the annotation source and the map entities.\n",
      "Running benchmarking for CORUM\n",
      "Took the overlap between the annotation source and the map entities.\n"
     ]
    }
   ],
   "source": [
    "results = []\n",
    "for k, v in data_dict.items():\n",
    "    result = get_benchmark_metrics(bm(v, pert_label_col=\"gene\"))\n",
    "    result[\"map\"] = k\n",
    "    results.append(result)\n",
    "results = pd.concat(results)"
   ]
  },
  {
   "cell_type": "code",
   "execution_count": 5,
   "id": "9b4ef74f-ddfa-44b3-8af0-3e0b6ea67055",
   "metadata": {},
   "outputs": [
    {
     "data": {
      "text/html": [
       "<div>\n",
       "<style scoped>\n",
       "    .dataframe tbody tr th:only-of-type {\n",
       "        vertical-align: middle;\n",
       "    }\n",
       "\n",
       "    .dataframe tbody tr th {\n",
       "        vertical-align: top;\n",
       "    }\n",
       "\n",
       "    .dataframe thead th {\n",
       "        text-align: right;\n",
       "    }\n",
       "</style>\n",
       "<table border=\"1\" class=\"dataframe\">\n",
       "  <thead>\n",
       "    <tr style=\"text-align: right;\">\n",
       "      <th></th>\n",
       "      <th>source</th>\n",
       "      <th>recall</th>\n",
       "      <th>map</th>\n",
       "    </tr>\n",
       "  </thead>\n",
       "  <tbody>\n",
       "    <tr>\n",
       "      <th>0</th>\n",
       "      <td>Reactome</td>\n",
       "      <td>0.133333</td>\n",
       "      <td>JUMP-CP PCAW</td>\n",
       "    </tr>\n",
       "    <tr>\n",
       "      <th>1</th>\n",
       "      <td>HuMAP</td>\n",
       "      <td>0.189173</td>\n",
       "      <td>JUMP-CP PCAW</td>\n",
       "    </tr>\n",
       "    <tr>\n",
       "      <th>2</th>\n",
       "      <td>CORUM</td>\n",
       "      <td>0.223281</td>\n",
       "      <td>JUMP-CP PCAW</td>\n",
       "    </tr>\n",
       "    <tr>\n",
       "      <th>0</th>\n",
       "      <td>Reactome</td>\n",
       "      <td>0.132783</td>\n",
       "      <td>JUMP-CP PCAW Arm-Centered</td>\n",
       "    </tr>\n",
       "    <tr>\n",
       "      <th>1</th>\n",
       "      <td>HuMAP</td>\n",
       "      <td>0.187441</td>\n",
       "      <td>JUMP-CP PCAW Arm-Centered</td>\n",
       "    </tr>\n",
       "    <tr>\n",
       "      <th>2</th>\n",
       "      <td>CORUM</td>\n",
       "      <td>0.228204</td>\n",
       "      <td>JUMP-CP PCAW Arm-Centered</td>\n",
       "    </tr>\n",
       "  </tbody>\n",
       "</table>\n",
       "</div>"
      ],
      "text/plain": [
       "     source    recall                        map\n",
       "0  Reactome  0.133333               JUMP-CP PCAW\n",
       "1     HuMAP  0.189173               JUMP-CP PCAW\n",
       "2     CORUM  0.223281               JUMP-CP PCAW\n",
       "0  Reactome  0.132783  JUMP-CP PCAW Arm-Centered\n",
       "1     HuMAP  0.187441  JUMP-CP PCAW Arm-Centered\n",
       "2     CORUM  0.228204  JUMP-CP PCAW Arm-Centered"
      ]
     },
     "execution_count": 5,
     "metadata": {},
     "output_type": "execute_result"
    }
   ],
   "source": [
    "results"
   ]
  },
  {
   "cell_type": "code",
   "execution_count": 6,
   "id": "208a3c3d-37a4-4a16-a605-0c47026c864b",
   "metadata": {},
   "outputs": [
    {
     "data": {
      "image/png": "[encoded data removed]",
      "text/plain": [
       "<Figure size 640x480 with 1 Axes>"
      ]
     },
     "metadata": {},
     "output_type": "display_data"
    }
   ],
   "source": [
    "sns.barplot(data=results, x=\"source\", y=\"recall\", hue=\"map\")\n",
    "plt.show()"
   ]
  },
  {
   "cell_type": "markdown",
   "id": "cc22a677-7bad-40a9-a500-2e654e0b539e",
   "metadata": {},
   "source": [
    "# Run Arm Stratified Benchmarks\n",
    "Compute known biology benchmarks subsetted by within chromosome arm versus between chromosome arm."
   ]
  },
  {
   "cell_type": "code",
   "execution_count": 8,
   "id": "b6aa1374-1950-4386-8dac-fad1d4eeeff1",
   "metadata": {},
   "outputs": [
    {
     "name": "stdout",
     "output_type": "stream",
     "text": [
      "Took the overlap between the annotation source and the map entities.\n",
      "Took the overlap between the annotation source and the map entities.\n",
      "Took the overlap between the annotation source and the map entities.\n",
      "Took the overlap between the annotation source and the map entities.\n",
      "Took the overlap between the annotation source and the map entities.\n",
      "Took the overlap between the annotation source and the map entities.\n",
      "Took the overlap between the annotation source and the map entities.\n",
      "Took the overlap between the annotation source and the map entities.\n",
      "Took the overlap between the annotation source and the map entities.\n",
      "Took the overlap between the annotation source and the map entities.\n",
      "Took the overlap between the annotation source and the map entities.\n",
      "Took the overlap between the annotation source and the map entities.\n"
     ]
    }
   ],
   "source": [
    "arm_stratified_results = {}\n",
    "for k, v in data_dict.items():\n",
    "    arm_stratified_results[k] = compute_within_cross_arm_pairwise_metrics(v)\n",
    "\n",
    "\n",
    "result_records = []\n",
    "for map_label, v in arm_stratified_results.items():\n",
    "    for name, result in zip((\"within arm\", \"between arms\"), v):\n",
    "        for source, recall in result.items():\n",
    "            result_records.append((map_label, name, source, recall))\n",
    "\n",
    "stratified_results_df = pd.DataFrame.from_records(result_records, columns=[\"Map Name\", \"arms\", \"source\", \"recall\"])"
   ]
  },
  {
   "cell_type": "code",
   "execution_count": 9,
   "id": "954466a4-a432-41f4-bf6d-e4194b899d83",
   "metadata": {},
   "outputs": [
    {
     "data": {
      "image/png": "[encoded data removed]",
      "text/plain": [
       "<Figure size 1753.88x500 with 3 Axes>"
      ]
     },
     "metadata": {},
     "output_type": "display_data"
    }
   ],
   "source": [
    "sns.catplot(data=stratified_results_df, x=\"arms\", y=\"recall\", hue=\"Map Name\", col=\"source\", kind=\"bar\")\n",
    "plt.show()"
   ]
  }
 ],
 "metadata": {
  "kernelspec": {
   "display_name": "Python 3 (ipykernel)",
   "language": "python",
   "name": "python3"
  },
  "language_info": {
   "codemirror_mode": {
    "name": "ipython",
    "version": 3
   },
   "file_extension": ".py",
   "mimetype": "text/x-python",
   "name": "python",
   "nbconvert_exporter": "python",
   "pygments_lexer": "ipython3",
   "version": "3.9.10"
  }
 },
 "nbformat": 4,
 "nbformat_minor": 5
}
