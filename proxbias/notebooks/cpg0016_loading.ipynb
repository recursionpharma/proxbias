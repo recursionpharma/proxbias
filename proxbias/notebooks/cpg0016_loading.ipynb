{
 "cells": [
  {
   "cell_type": "code",
   "execution_count": 2,
   "metadata": {
    "ExecuteTime": {
     "end_time": "2023-05-12T16:46:44.662952Z",
     "start_time": "2023-05-12T16:46:39.382401Z"
    }
   },
   "outputs": [],
   "source": [
    "import os\n",
    "import pickle\n",
    "import numpy as np\n",
    "import pandas as pd\n",
    "import gc\n",
    "\n",
    "from sklearn.utils import Bunch\n",
    "\n",
    "from proxbias import utils\n",
    "from proxbias.cpg_processing import loading as cpgl\n",
    "from proxbias.cpg_processing import transform as cpgt\n",
    "from proxbias.arm_centering import build_arm_centering_df, perform_arm_centering"
   ]
  },
  {
   "cell_type": "markdown",
   "metadata": {},
   "source": [
    "# Load cpg0016 data\n",
    "The metadata is stored locally because there isn't an API for downloading it. But features are pulled from the S3 bucket provided by the JUMP consortium."
   ]
  },
  {
   "cell_type": "code",
   "execution_count": 4,
   "metadata": {
    "ExecuteTime": {
     "end_time": "2023-05-12T16:49:16.669511Z",
     "start_time": "2023-05-12T16:46:44.665832Z"
    }
   },
   "outputs": [
    {
     "data": {
      "text/plain": [
       "130"
      ]
     },
     "execution_count": 4,
     "metadata": {},
     "output_type": "execute_result"
    }
   ],
   "source": [
    "me = cpgl.load_cpg_crispr_well_metadata()\n",
    "# Sometimes this fails on the first run because of some S3 weirdness, but works the second time\n",
    "# so we just try twice here.\n",
    "try:\n",
    "    fe = cpgl.load_feature_data(me)\n",
    "except ValueError:\n",
    "    fe = cpgl.load_feature_data(me)\n",
    "data = cpgl.build_combined_data(me, fe)\n",
    "del me, fe\n",
    "gc.collect()"
   ]
  },
  {
   "cell_type": "markdown",
   "metadata": {},
   "source": [
    "# Process the cpg0016 data using PCA"
   ]
  },
  {
   "cell_type": "code",
   "execution_count": 5,
   "metadata": {
    "ExecuteTime": {
     "end_time": "2023-05-12T16:51:58.828009Z",
     "start_time": "2023-05-12T16:49:16.673629Z"
    }
   },
   "outputs": [],
   "source": [
    "data = cpgt.preprocess_data(data)\n",
    "data_t = cpgt.transform_data(data)"
   ]
  },
  {
   "cell_type": "code",
   "execution_count": 6,
   "metadata": {
    "ExecuteTime": {
     "end_time": "2023-05-12T16:52:00.544057Z",
     "start_time": "2023-05-12T16:51:58.831519Z"
    }
   },
   "outputs": [
    {
     "name": "stdout",
     "output_type": "stream",
     "text": [
      "Data went from 3677 to 155 features. Keeping 98% of the variance\n"
     ]
    }
   ],
   "source": [
    "n_feats = data_t.shape[1] - 1\n",
    "print(f\"Data went from {data.shape[1]} to {n_feats} features. Keeping 98% of the variance\")"
   ]
  },
  {
   "cell_type": "markdown",
   "metadata": {},
   "source": [
    "# Apply arm-centering correction \n",
    "\n",
    "- Add in the chromosome annotations \n",
    "- Add in expression annotations (zfpkm values from Recursion RNAseq in U2OS cells)\n",
    "- Subtract off the mean of unexpressed genes per chromosome arm"
   ]
  },
  {
   "cell_type": "markdown",
   "metadata": {},
   "source": [
    "### Add in chromosome information"
   ]
  },
  {
   "cell_type": "code",
   "execution_count": 7,
   "metadata": {
    "ExecuteTime": {
     "end_time": "2023-05-12T16:52:03.238619Z",
     "start_time": "2023-05-12T16:52:00.547902Z"
    }
   },
   "outputs": [],
   "source": [
    "gene_dict, chrom_dict, band_dict = utils.chromosome_info.get_chromosome_info_as_dicts()\n",
    "genes = list(gene_dict.keys())"
   ]
  },
  {
   "cell_type": "code",
   "execution_count": 8,
   "metadata": {
    "ExecuteTime": {
     "end_time": "2023-05-12T16:52:03.931634Z",
     "start_time": "2023-05-12T16:52:03.244549Z"
    }
   },
   "outputs": [
    {
     "name": "stdout",
     "output_type": "stream",
     "text": [
      "Full data has 7977 genes, 7825 of which are in hg38 annotations\n"
     ]
    }
   ],
   "source": [
    "# Subset to genes with chrom information from hg38\n",
    "idx = data_t.query(f\"Metadata_Symbol.isin({genes})\").index\n",
    "print(f\"Full data has {data_t.shape[0]} genes, {len(idx)} of which are in hg38 annotations\")\n",
    "data_t = data_t.rename({\"Metadata_Symbol\": \"gene\"}, axis=1)\n",
    "data_t = data_t.loc[idx].reset_index(drop=True)\n",
    "\n",
    "# Add in chromomsome information\n",
    "data_t[\"chromosome\"] = data_t.gene.apply(lambda x: gene_dict[x][\"chrom\"] if x in gene_dict else \"no info\")\n",
    "data_t[\"chr_idx\"] = data_t.gene.apply(lambda x: gene_dict[x][\"chrom_int\"] if x in gene_dict else \"no info\")\n",
    "data_t[\"chromosome_arm\"] = data_t.gene.apply(lambda x: gene_dict[x][\"arm\"] if x in gene_dict else \"no info\")\n",
    "data_t[\"gene_bp\"] = data_t.gene.apply(lambda x: gene_dict[x][\"start\"] if x in gene_dict else \"no info\")"
   ]
  },
  {
   "cell_type": "markdown",
   "metadata": {},
   "source": [
    "### Add in expression data"
   ]
  },
  {
   "cell_type": "code",
   "execution_count": 9,
   "metadata": {
    "ExecuteTime": {
     "end_time": "2023-05-12T16:52:04.106045Z",
     "start_time": "2023-05-12T16:52:03.933971Z"
    }
   },
   "outputs": [],
   "source": [
    "u2os_exp = pd.read_csv(\"../data/u2os.csv\", index_col=\"gene\")"
   ]
  },
  {
   "cell_type": "code",
   "execution_count": 10,
   "metadata": {
    "ExecuteTime": {
     "end_time": "2023-05-12T16:52:04.306956Z",
     "start_time": "2023-05-12T16:52:04.108557Z"
    }
   },
   "outputs": [],
   "source": [
    "data_t = data_t.assign(zfpkm=data_t.gene.map(u2os_exp.zfpkm.to_dict()))\n",
    "\n",
    "cols = [\"gene\", \"chromosome\", \"chr_idx\", \"chromosome_arm\", \"gene_bp\", \"zfpkm\"] + list(range(0, n_feats))\n",
    "data_t = data_t.loc[:, cols]\n",
    "data_t = data_t.sort_values([\"chr_idx\", \"gene_bp\"]).reset_index(drop=True)"
   ]
  },
  {
   "cell_type": "code",
   "execution_count": 11,
   "metadata": {
    "ExecuteTime": {
     "end_time": "2023-05-12T16:52:04.389865Z",
     "start_time": "2023-05-12T16:52:04.311215Z"
    }
   },
   "outputs": [
    {
     "data": {
      "text/html": [
       "<div>\n",
       "<style scoped>\n",
       "    .dataframe tbody tr th:only-of-type {\n",
       "        vertical-align: middle;\n",
       "    }\n",
       "\n",
       "    .dataframe tbody tr th {\n",
       "        vertical-align: top;\n",
       "    }\n",
       "\n",
       "    .dataframe thead th {\n",
       "        text-align: right;\n",
       "    }\n",
       "</style>\n",
       "<table border=\"1\" class=\"dataframe\">\n",
       "  <thead>\n",
       "    <tr style=\"text-align: right;\">\n",
       "      <th></th>\n",
       "      <th>gene</th>\n",
       "      <th>chromosome</th>\n",
       "      <th>chr_idx</th>\n",
       "      <th>chromosome_arm</th>\n",
       "      <th>gene_bp</th>\n",
       "      <th>zfpkm</th>\n",
       "      <th>1</th>\n",
       "      <th>2</th>\n",
       "      <th>3</th>\n",
       "      <th>4</th>\n",
       "      <th>...</th>\n",
       "      <th>145</th>\n",
       "      <th>146</th>\n",
       "      <th>147</th>\n",
       "      <th>148</th>\n",
       "      <th>149</th>\n",
       "      <th>150</th>\n",
       "      <th>151</th>\n",
       "      <th>152</th>\n",
       "      <th>153</th>\n",
       "      <th>154</th>\n",
       "    </tr>\n",
       "  </thead>\n",
       "  <tbody>\n",
       "    <tr>\n",
       "      <th>0</th>\n",
       "      <td>HES4</td>\n",
       "      <td>chr1</td>\n",
       "      <td>1</td>\n",
       "      <td>chr1p</td>\n",
       "      <td>998963</td>\n",
       "      <td>-4.060299</td>\n",
       "      <td>-0.293430</td>\n",
       "      <td>0.182932</td>\n",
       "      <td>-0.505629</td>\n",
       "      <td>-0.538439</td>\n",
       "      <td>...</td>\n",
       "      <td>-0.882167</td>\n",
       "      <td>0.538489</td>\n",
       "      <td>-0.030721</td>\n",
       "      <td>0.099025</td>\n",
       "      <td>0.001580</td>\n",
       "      <td>0.690363</td>\n",
       "      <td>0.290000</td>\n",
       "      <td>-0.866354</td>\n",
       "      <td>0.216838</td>\n",
       "      <td>-0.000428</td>\n",
       "    </tr>\n",
       "    <tr>\n",
       "      <th>1</th>\n",
       "      <td>RNF223</td>\n",
       "      <td>chr1</td>\n",
       "      <td>1</td>\n",
       "      <td>chr1p</td>\n",
       "      <td>1070966</td>\n",
       "      <td>-3.780112</td>\n",
       "      <td>0.507977</td>\n",
       "      <td>0.062129</td>\n",
       "      <td>-1.382791</td>\n",
       "      <td>-0.324926</td>\n",
       "      <td>...</td>\n",
       "      <td>-0.182823</td>\n",
       "      <td>0.256507</td>\n",
       "      <td>0.053999</td>\n",
       "      <td>0.274025</td>\n",
       "      <td>0.249013</td>\n",
       "      <td>0.265098</td>\n",
       "      <td>0.079749</td>\n",
       "      <td>-0.102031</td>\n",
       "      <td>-0.465650</td>\n",
       "      <td>0.289305</td>\n",
       "    </tr>\n",
       "    <tr>\n",
       "      <th>2</th>\n",
       "      <td>TNFRSF4</td>\n",
       "      <td>chr1</td>\n",
       "      <td>1</td>\n",
       "      <td>chr1p</td>\n",
       "      <td>1211339</td>\n",
       "      <td>-2.613715</td>\n",
       "      <td>0.670106</td>\n",
       "      <td>0.299331</td>\n",
       "      <td>0.097489</td>\n",
       "      <td>0.291351</td>\n",
       "      <td>...</td>\n",
       "      <td>-0.697150</td>\n",
       "      <td>0.584254</td>\n",
       "      <td>0.044783</td>\n",
       "      <td>-0.198490</td>\n",
       "      <td>0.593804</td>\n",
       "      <td>0.383615</td>\n",
       "      <td>-0.388746</td>\n",
       "      <td>-0.199009</td>\n",
       "      <td>-0.787844</td>\n",
       "      <td>0.007407</td>\n",
       "    </tr>\n",
       "    <tr>\n",
       "      <th>3</th>\n",
       "      <td>B3GALT6</td>\n",
       "      <td>chr1</td>\n",
       "      <td>1</td>\n",
       "      <td>chr1p</td>\n",
       "      <td>1232236</td>\n",
       "      <td>-0.488317</td>\n",
       "      <td>-0.798343</td>\n",
       "      <td>0.086292</td>\n",
       "      <td>-0.034710</td>\n",
       "      <td>-0.250217</td>\n",
       "      <td>...</td>\n",
       "      <td>-1.045757</td>\n",
       "      <td>-0.294913</td>\n",
       "      <td>0.022396</td>\n",
       "      <td>0.278259</td>\n",
       "      <td>0.101221</td>\n",
       "      <td>0.520363</td>\n",
       "      <td>0.453335</td>\n",
       "      <td>0.094467</td>\n",
       "      <td>-0.009745</td>\n",
       "      <td>0.112679</td>\n",
       "    </tr>\n",
       "    <tr>\n",
       "      <th>4</th>\n",
       "      <td>UBE2J2</td>\n",
       "      <td>chr1</td>\n",
       "      <td>1</td>\n",
       "      <td>chr1p</td>\n",
       "      <td>1253911</td>\n",
       "      <td>0.723001</td>\n",
       "      <td>-0.264670</td>\n",
       "      <td>0.689511</td>\n",
       "      <td>0.307939</td>\n",
       "      <td>-0.239155</td>\n",
       "      <td>...</td>\n",
       "      <td>0.444107</td>\n",
       "      <td>0.080091</td>\n",
       "      <td>0.791465</td>\n",
       "      <td>-0.468546</td>\n",
       "      <td>0.258780</td>\n",
       "      <td>1.607342</td>\n",
       "      <td>0.433997</td>\n",
       "      <td>0.362857</td>\n",
       "      <td>-0.066953</td>\n",
       "      <td>0.117223</td>\n",
       "    </tr>\n",
       "  </tbody>\n",
       "</table>\n",
       "<p>5 rows × 160 columns</p>\n",
       "</div>"
      ],
      "text/plain": [
       "      gene chromosome  chr_idx chromosome_arm  gene_bp     zfpkm         1  \\\n",
       "0     HES4       chr1        1          chr1p   998963 -4.060299 -0.293430   \n",
       "1   RNF223       chr1        1          chr1p  1070966 -3.780112  0.507977   \n",
       "2  TNFRSF4       chr1        1          chr1p  1211339 -2.613715  0.670106   \n",
       "3  B3GALT6       chr1        1          chr1p  1232236 -0.488317 -0.798343   \n",
       "4   UBE2J2       chr1        1          chr1p  1253911  0.723001 -0.264670   \n",
       "\n",
       "          2         3         4  ...       145       146       147       148  \\\n",
       "0  0.182932 -0.505629 -0.538439  ... -0.882167  0.538489 -0.030721  0.099025   \n",
       "1  0.062129 -1.382791 -0.324926  ... -0.182823  0.256507  0.053999  0.274025   \n",
       "2  0.299331  0.097489  0.291351  ... -0.697150  0.584254  0.044783 -0.198490   \n",
       "3  0.086292 -0.034710 -0.250217  ... -1.045757 -0.294913  0.022396  0.278259   \n",
       "4  0.689511  0.307939 -0.239155  ...  0.444107  0.080091  0.791465 -0.468546   \n",
       "\n",
       "        149       150       151       152       153       154  \n",
       "0  0.001580  0.690363  0.290000 -0.866354  0.216838 -0.000428  \n",
       "1  0.249013  0.265098  0.079749 -0.102031 -0.465650  0.289305  \n",
       "2  0.593804  0.383615 -0.388746 -0.199009 -0.787844  0.007407  \n",
       "3  0.101221  0.520363  0.453335  0.094467 -0.009745  0.112679  \n",
       "4  0.258780  1.607342  0.433997  0.362857 -0.066953  0.117223  \n",
       "\n",
       "[5 rows x 160 columns]"
      ]
     },
     "execution_count": 11,
     "metadata": {},
     "output_type": "execute_result"
    }
   ],
   "source": [
    "data_t.head()"
   ]
  },
  {
   "cell_type": "markdown",
   "metadata": {},
   "source": [
    "### Prox-bias correction: subtract off the mean of unexpressed genes per chromosome arm"
   ]
  },
  {
   "cell_type": "code",
   "execution_count": 12,
   "metadata": {
    "ExecuteTime": {
     "end_time": "2023-05-12T16:52:04.550682Z",
     "start_time": "2023-05-12T16:52:04.392147Z"
    }
   },
   "outputs": [],
   "source": [
    "cols = [\"gene\", \"chromosome\", \"chr_idx\", \"chromosome_arm\", \"gene_bp\", \"zfpkm\"]\n",
    "arm_df = build_arm_centering_df(data=data_t, metadata_cols=cols)\n",
    "data_pbc = perform_arm_centering(data=data_t, metadata_cols=cols, arm_centering_df=arm_df)"
   ]
  },
  {
   "cell_type": "markdown",
   "metadata": {},
   "source": [
    "# Combine corrected and un-corrected datasets into a dictionary of bunch objects and write out pickled files"
   ]
  },
  {
   "cell_type": "code",
   "execution_count": 13,
   "metadata": {
    "ExecuteTime": {
     "end_time": "2023-05-12T16:52:04.607239Z",
     "start_time": "2023-05-12T16:52:04.553132Z"
    }
   },
   "outputs": [
    {
     "data": {
      "text/html": [
       "<div>\n",
       "<style scoped>\n",
       "    .dataframe tbody tr th:only-of-type {\n",
       "        vertical-align: middle;\n",
       "    }\n",
       "\n",
       "    .dataframe tbody tr th {\n",
       "        vertical-align: top;\n",
       "    }\n",
       "\n",
       "    .dataframe thead th {\n",
       "        text-align: right;\n",
       "    }\n",
       "</style>\n",
       "<table border=\"1\" class=\"dataframe\">\n",
       "  <thead>\n",
       "    <tr style=\"text-align: right;\">\n",
       "      <th></th>\n",
       "      <th>gene</th>\n",
       "      <th>chromosome</th>\n",
       "      <th>chr_idx</th>\n",
       "      <th>chromosome_arm</th>\n",
       "      <th>gene_bp</th>\n",
       "      <th>zfpkm</th>\n",
       "      <th>1</th>\n",
       "      <th>2</th>\n",
       "      <th>3</th>\n",
       "      <th>4</th>\n",
       "      <th>...</th>\n",
       "      <th>145</th>\n",
       "      <th>146</th>\n",
       "      <th>147</th>\n",
       "      <th>148</th>\n",
       "      <th>149</th>\n",
       "      <th>150</th>\n",
       "      <th>151</th>\n",
       "      <th>152</th>\n",
       "      <th>153</th>\n",
       "      <th>154</th>\n",
       "    </tr>\n",
       "  </thead>\n",
       "  <tbody>\n",
       "    <tr>\n",
       "      <th>0</th>\n",
       "      <td>HES4</td>\n",
       "      <td>chr1</td>\n",
       "      <td>1</td>\n",
       "      <td>chr1p</td>\n",
       "      <td>998963</td>\n",
       "      <td>-4.060299</td>\n",
       "      <td>-0.114877</td>\n",
       "      <td>0.279856</td>\n",
       "      <td>-0.264996</td>\n",
       "      <td>0.006656</td>\n",
       "      <td>...</td>\n",
       "      <td>-0.702039</td>\n",
       "      <td>0.384718</td>\n",
       "      <td>-0.065364</td>\n",
       "      <td>-0.032908</td>\n",
       "      <td>0.398196</td>\n",
       "      <td>0.422840</td>\n",
       "      <td>0.297409</td>\n",
       "      <td>-0.878708</td>\n",
       "      <td>0.466026</td>\n",
       "      <td>0.029106</td>\n",
       "    </tr>\n",
       "    <tr>\n",
       "      <th>1</th>\n",
       "      <td>RNF223</td>\n",
       "      <td>chr1</td>\n",
       "      <td>1</td>\n",
       "      <td>chr1p</td>\n",
       "      <td>1070966</td>\n",
       "      <td>-3.780112</td>\n",
       "      <td>0.686530</td>\n",
       "      <td>0.159053</td>\n",
       "      <td>-1.142159</td>\n",
       "      <td>0.220169</td>\n",
       "      <td>...</td>\n",
       "      <td>-0.002694</td>\n",
       "      <td>0.102735</td>\n",
       "      <td>0.019356</td>\n",
       "      <td>0.142092</td>\n",
       "      <td>0.645630</td>\n",
       "      <td>-0.002425</td>\n",
       "      <td>0.087159</td>\n",
       "      <td>-0.114385</td>\n",
       "      <td>-0.216461</td>\n",
       "      <td>0.318839</td>\n",
       "    </tr>\n",
       "    <tr>\n",
       "      <th>2</th>\n",
       "      <td>TNFRSF4</td>\n",
       "      <td>chr1</td>\n",
       "      <td>1</td>\n",
       "      <td>chr1p</td>\n",
       "      <td>1211339</td>\n",
       "      <td>-2.613715</td>\n",
       "      <td>0.848659</td>\n",
       "      <td>0.396255</td>\n",
       "      <td>0.338121</td>\n",
       "      <td>0.836446</td>\n",
       "      <td>...</td>\n",
       "      <td>-0.517021</td>\n",
       "      <td>0.430483</td>\n",
       "      <td>0.010141</td>\n",
       "      <td>-0.330424</td>\n",
       "      <td>0.990421</td>\n",
       "      <td>0.116092</td>\n",
       "      <td>-0.381337</td>\n",
       "      <td>-0.211363</td>\n",
       "      <td>-0.538656</td>\n",
       "      <td>0.036941</td>\n",
       "    </tr>\n",
       "    <tr>\n",
       "      <th>3</th>\n",
       "      <td>B3GALT6</td>\n",
       "      <td>chr1</td>\n",
       "      <td>1</td>\n",
       "      <td>chr1p</td>\n",
       "      <td>1232236</td>\n",
       "      <td>-0.488317</td>\n",
       "      <td>-0.619790</td>\n",
       "      <td>0.183216</td>\n",
       "      <td>0.205923</td>\n",
       "      <td>0.294879</td>\n",
       "      <td>...</td>\n",
       "      <td>-0.865629</td>\n",
       "      <td>-0.448684</td>\n",
       "      <td>-0.012247</td>\n",
       "      <td>0.146325</td>\n",
       "      <td>0.497838</td>\n",
       "      <td>0.252840</td>\n",
       "      <td>0.460744</td>\n",
       "      <td>0.082113</td>\n",
       "      <td>0.239443</td>\n",
       "      <td>0.142212</td>\n",
       "    </tr>\n",
       "    <tr>\n",
       "      <th>4</th>\n",
       "      <td>UBE2J2</td>\n",
       "      <td>chr1</td>\n",
       "      <td>1</td>\n",
       "      <td>chr1p</td>\n",
       "      <td>1253911</td>\n",
       "      <td>0.723001</td>\n",
       "      <td>-0.086117</td>\n",
       "      <td>0.786435</td>\n",
       "      <td>0.548572</td>\n",
       "      <td>0.305941</td>\n",
       "      <td>...</td>\n",
       "      <td>0.624236</td>\n",
       "      <td>-0.073681</td>\n",
       "      <td>0.756822</td>\n",
       "      <td>-0.600479</td>\n",
       "      <td>0.655396</td>\n",
       "      <td>1.339819</td>\n",
       "      <td>0.441406</td>\n",
       "      <td>0.350503</td>\n",
       "      <td>0.182235</td>\n",
       "      <td>0.146757</td>\n",
       "    </tr>\n",
       "  </tbody>\n",
       "</table>\n",
       "<p>5 rows × 160 columns</p>\n",
       "</div>"
      ],
      "text/plain": [
       "      gene chromosome  chr_idx chromosome_arm  gene_bp     zfpkm         1  \\\n",
       "0     HES4       chr1        1          chr1p   998963 -4.060299 -0.114877   \n",
       "1   RNF223       chr1        1          chr1p  1070966 -3.780112  0.686530   \n",
       "2  TNFRSF4       chr1        1          chr1p  1211339 -2.613715  0.848659   \n",
       "3  B3GALT6       chr1        1          chr1p  1232236 -0.488317 -0.619790   \n",
       "4   UBE2J2       chr1        1          chr1p  1253911  0.723001 -0.086117   \n",
       "\n",
       "          2         3         4  ...       145       146       147       148  \\\n",
       "0  0.279856 -0.264996  0.006656  ... -0.702039  0.384718 -0.065364 -0.032908   \n",
       "1  0.159053 -1.142159  0.220169  ... -0.002694  0.102735  0.019356  0.142092   \n",
       "2  0.396255  0.338121  0.836446  ... -0.517021  0.430483  0.010141 -0.330424   \n",
       "3  0.183216  0.205923  0.294879  ... -0.865629 -0.448684 -0.012247  0.146325   \n",
       "4  0.786435  0.548572  0.305941  ...  0.624236 -0.073681  0.756822 -0.600479   \n",
       "\n",
       "        149       150       151       152       153       154  \n",
       "0  0.398196  0.422840  0.297409 -0.878708  0.466026  0.029106  \n",
       "1  0.645630 -0.002425  0.087159 -0.114385 -0.216461  0.318839  \n",
       "2  0.990421  0.116092 -0.381337 -0.211363 -0.538656  0.036941  \n",
       "3  0.497838  0.252840  0.460744  0.082113  0.239443  0.142212  \n",
       "4  0.655396  1.339819  0.441406  0.350503  0.182235  0.146757  \n",
       "\n",
       "[5 rows x 160 columns]"
      ]
     },
     "execution_count": 13,
     "metadata": {},
     "output_type": "execute_result"
    }
   ],
   "source": [
    "data_pbc.head()"
   ]
  },
  {
   "cell_type": "code",
   "execution_count": 14,
   "metadata": {
    "ExecuteTime": {
     "end_time": "2023-05-12T16:52:04.664783Z",
     "start_time": "2023-05-12T16:52:04.609431Z"
    }
   },
   "outputs": [],
   "source": [
    "data_dict = {\n",
    "    \"JUMP-CP PCAW\": Bunch(metadata=data_t.loc[:, cols], features=data_t.loc[:, list(range(0, n_feats))]),\n",
    "    \"JUMP-CP PCAW Arm-Centered\": Bunch(\n",
    "        metadata=data_pbc.loc[:, cols], features=data_pbc.loc[:, list(range(0, n_feats))]\n",
    "    ),\n",
    "}"
   ]
  },
  {
   "cell_type": "code",
   "execution_count": 15,
   "metadata": {
    "ExecuteTime": {
     "end_time": "2023-05-12T16:52:04.958248Z",
     "start_time": "2023-05-12T16:52:04.667955Z"
    }
   },
   "outputs": [],
   "source": [
    "path = \"../../scratch\"\n",
    "if not os.path.exists(path):\n",
    "    os.mkdir(path)\n",
    "\n",
    "with open(os.path.join(path, \"cpg_data_dict.pkl\"), \"wb\") as outfile:\n",
    "    pickle.dump(data_dict, outfile)"
   ]
  }
 ],
 "metadata": {
  "hex_info": {
   "author": "Nathan Lazar",
   "exported_date": "Wed May 10 2023 23:06:50 GMT+0000 (Coordinated Universal Time)",
   "project_id": "9374c4f5-4b31-4cef-896a-1fb773ee0538",
   "version": "draft"
  },
  "kernelspec": {
   "display_name": "Python 3 (ipykernel)",
   "language": "python",
   "name": "python3"
  },
  "language_info": {
   "codemirror_mode": {
    "name": "ipython",
    "version": 3
   },
   "file_extension": ".py",
   "mimetype": "text/x-python",
   "name": "python",
   "nbconvert_exporter": "python",
   "pygments_lexer": "ipython3",
   "version": "3.9.7"
  },
  "vscode": {
   "interpreter": {
    "hash": "6fac105202a976c59d48583e76a3d69424ead38bc82e087bf13588d4ca3b1c76"
   }
  }
 },
 "nbformat": 4,
 "nbformat_minor": 4
}
